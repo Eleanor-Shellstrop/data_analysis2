{
 "cells": [
  {
   "cell_type": "code",
   "execution_count": 48,
   "id": "f860a0bd",
   "metadata": {},
   "outputs": [],
   "source": [
    "import requests\n",
    "import pprint\n",
    "import pandas as pd"
   ]
  },
  {
   "cell_type": "code",
   "execution_count": 53,
   "id": "87671ffa",
   "metadata": {},
   "outputs": [],
   "source": [
    "user_agent = \"Mozilla/5.0 (Windows NT 10.0; WOW64) AppleWebKit/537.36 (KHTML, like Gecko) Chrome/79.0.3945.88 Safari/537.37\"\n",
    "\n",
    "response = requests.get('http://zoo-animal-api.herokuapp.com/animals/rand/10', headers={'User-Agent': user_agent})"
   ]
  },
  {
   "cell_type": "code",
   "execution_count": 54,
   "id": "0cce39e4",
   "metadata": {},
   "outputs": [
    {
     "name": "stdout",
     "output_type": "stream",
     "text": [
      "200\n"
     ]
    }
   ],
   "source": [
    "print(response.status_code)"
   ]
  },
  {
   "cell_type": "code",
   "execution_count": 55,
   "id": "13476558",
   "metadata": {},
   "outputs": [],
   "source": [
    "data = response.json()"
   ]
  },
  {
   "cell_type": "code",
   "execution_count": 56,
   "id": "b3749782",
   "metadata": {},
   "outputs": [
    {
     "data": {
      "text/plain": [
       "{'name': 'Dyeing Poison Dart Frog',\n",
       " 'latin_name': 'Dendrobatus tinctorius',\n",
       " 'animal_type': 'Amphibian',\n",
       " 'active_time': 'Diurnal',\n",
       " 'length_min': '0.13',\n",
       " 'length_max': '0.2',\n",
       " 'weight_min': '0.01',\n",
       " 'weight_max': '0.01',\n",
       " 'lifespan': '10',\n",
       " 'habitat': 'Tropical rainforest',\n",
       " 'diet': 'Insects, spiders, and other small invertebrates',\n",
       " 'geo_range': 'South America',\n",
       " 'image_link': 'https://upload.wikimedia.org/wikipedia/commons/1/17/Dendrobates_tinctorius_-_Karlsruhe_Zoo_05.jpg',\n",
       " 'id': 63}"
      ]
     },
     "execution_count": 56,
     "metadata": {},
     "output_type": "execute_result"
    }
   ],
   "source": [
    "data[1]"
   ]
  },
  {
   "cell_type": "code",
   "execution_count": 49,
   "id": "b9e90abf",
   "metadata": {},
   "outputs": [],
   "source": [
    "df = pd.json_normalize(data)"
   ]
  },
  {
   "cell_type": "code",
   "execution_count": 50,
   "id": "577dd82b",
   "metadata": {},
   "outputs": [
    {
     "data": {
      "text/html": [
       "<div>\n",
       "<style scoped>\n",
       "    .dataframe tbody tr th:only-of-type {\n",
       "        vertical-align: middle;\n",
       "    }\n",
       "\n",
       "    .dataframe tbody tr th {\n",
       "        vertical-align: top;\n",
       "    }\n",
       "\n",
       "    .dataframe thead th {\n",
       "        text-align: right;\n",
       "    }\n",
       "</style>\n",
       "<table border=\"1\" class=\"dataframe\">\n",
       "  <thead>\n",
       "    <tr style=\"text-align: right;\">\n",
       "      <th></th>\n",
       "      <th>name</th>\n",
       "      <th>latin_name</th>\n",
       "      <th>animal_type</th>\n",
       "      <th>active_time</th>\n",
       "      <th>length_min</th>\n",
       "      <th>length_max</th>\n",
       "      <th>weight_min</th>\n",
       "      <th>weight_max</th>\n",
       "      <th>lifespan</th>\n",
       "      <th>habitat</th>\n",
       "      <th>diet</th>\n",
       "      <th>geo_range</th>\n",
       "      <th>image_link</th>\n",
       "      <th>id</th>\n",
       "    </tr>\n",
       "  </thead>\n",
       "  <tbody>\n",
       "    <tr>\n",
       "      <th>0</th>\n",
       "      <td>North American River Otter</td>\n",
       "      <td>Lutra canadensis</td>\n",
       "      <td>Mammal</td>\n",
       "      <td>Nocturnal</td>\n",
       "      <td>3.2</td>\n",
       "      <td>3.9</td>\n",
       "      <td>11</td>\n",
       "      <td>33</td>\n",
       "      <td>11</td>\n",
       "      <td>Freshwater rivers, streams, lakes, ponds, mars...</td>\n",
       "      <td>Fish, crayfish, ducklings, turtles, and other ...</td>\n",
       "      <td>Canada and the United States</td>\n",
       "      <td>https://upload.wikimedia.org/wikipedia/commons...</td>\n",
       "      <td>125</td>\n",
       "    </tr>\n",
       "    <tr>\n",
       "      <th>1</th>\n",
       "      <td>Coquerel's Sifaka</td>\n",
       "      <td>Propithecus coquereli</td>\n",
       "      <td>Mammal</td>\n",
       "      <td>Diurnal</td>\n",
       "      <td>1.4</td>\n",
       "      <td>1.7</td>\n",
       "      <td>7.5</td>\n",
       "      <td>11</td>\n",
       "      <td>11</td>\n",
       "      <td>Forest</td>\n",
       "      <td>Leaves, fruit, and flowers</td>\n",
       "      <td>Northwestern Madagascar</td>\n",
       "      <td>https://upload.wikimedia.org/wikipedia/commons...</td>\n",
       "      <td>57</td>\n",
       "    </tr>\n",
       "    <tr>\n",
       "      <th>2</th>\n",
       "      <td>Snow Leopard</td>\n",
       "      <td>Uncia uncia</td>\n",
       "      <td>Mammal</td>\n",
       "      <td>Diurnal</td>\n",
       "      <td>2.5</td>\n",
       "      <td>4.9</td>\n",
       "      <td>77</td>\n",
       "      <td>120</td>\n",
       "      <td>14</td>\n",
       "      <td>Mountain regions, including grassland, scrubla...</td>\n",
       "      <td>Primarily blue sheep and ibex; some other hoof...</td>\n",
       "      <td>Central Asia</td>\n",
       "      <td>https://upload.wikimedia.org/wikipedia/commons...</td>\n",
       "      <td>164</td>\n",
       "    </tr>\n",
       "    <tr>\n",
       "      <th>3</th>\n",
       "      <td>Andean Condor</td>\n",
       "      <td>Vultur gryphus</td>\n",
       "      <td>Bird</td>\n",
       "      <td>Diurnal</td>\n",
       "      <td>3.3</td>\n",
       "      <td>4.3</td>\n",
       "      <td>18</td>\n",
       "      <td>33</td>\n",
       "      <td>46</td>\n",
       "      <td>Desert, mountains, grasslands and coasts</td>\n",
       "      <td>Carrion</td>\n",
       "      <td>Western South America</td>\n",
       "      <td>https://upload.wikimedia.org/wikipedia/commons...</td>\n",
       "      <td>14</td>\n",
       "    </tr>\n",
       "    <tr>\n",
       "      <th>4</th>\n",
       "      <td>Saddle-billed Stork</td>\n",
       "      <td>Ephippiorhynchus senegalensis</td>\n",
       "      <td>Bird</td>\n",
       "      <td>Diurnal</td>\n",
       "      <td>4.75</td>\n",
       "      <td>4.92</td>\n",
       "      <td>11</td>\n",
       "      <td>16</td>\n",
       "      <td>12</td>\n",
       "      <td>Freshwater marshes, rivers, floodplains and la...</td>\n",
       "      <td>Mainly fish, some other small aquatic creature...</td>\n",
       "      <td>Central Africa</td>\n",
       "      <td>https://upload.wikimedia.org/wikipedia/commons...</td>\n",
       "      <td>156</td>\n",
       "    </tr>\n",
       "  </tbody>\n",
       "</table>\n",
       "</div>"
      ],
      "text/plain": [
       "                         name                     latin_name animal_type  \\\n",
       "0  North American River Otter               Lutra canadensis      Mammal   \n",
       "1           Coquerel's Sifaka          Propithecus coquereli      Mammal   \n",
       "2                Snow Leopard                    Uncia uncia      Mammal   \n",
       "3               Andean Condor                 Vultur gryphus        Bird   \n",
       "4         Saddle-billed Stork  Ephippiorhynchus senegalensis        Bird   \n",
       "\n",
       "  active_time length_min length_max weight_min weight_max lifespan  \\\n",
       "0   Nocturnal        3.2        3.9         11         33       11   \n",
       "1     Diurnal        1.4        1.7        7.5         11       11   \n",
       "2     Diurnal        2.5        4.9         77        120       14   \n",
       "3     Diurnal        3.3        4.3         18         33       46   \n",
       "4     Diurnal       4.75       4.92         11         16       12   \n",
       "\n",
       "                                             habitat  \\\n",
       "0  Freshwater rivers, streams, lakes, ponds, mars...   \n",
       "1                                             Forest   \n",
       "2  Mountain regions, including grassland, scrubla...   \n",
       "3           Desert, mountains, grasslands and coasts   \n",
       "4  Freshwater marshes, rivers, floodplains and la...   \n",
       "\n",
       "                                                diet  \\\n",
       "0  Fish, crayfish, ducklings, turtles, and other ...   \n",
       "1                         Leaves, fruit, and flowers   \n",
       "2  Primarily blue sheep and ibex; some other hoof...   \n",
       "3                                            Carrion   \n",
       "4  Mainly fish, some other small aquatic creature...   \n",
       "\n",
       "                      geo_range  \\\n",
       "0  Canada and the United States   \n",
       "1       Northwestern Madagascar   \n",
       "2                  Central Asia   \n",
       "3         Western South America   \n",
       "4                Central Africa   \n",
       "\n",
       "                                          image_link   id  \n",
       "0  https://upload.wikimedia.org/wikipedia/commons...  125  \n",
       "1  https://upload.wikimedia.org/wikipedia/commons...   57  \n",
       "2  https://upload.wikimedia.org/wikipedia/commons...  164  \n",
       "3  https://upload.wikimedia.org/wikipedia/commons...   14  \n",
       "4  https://upload.wikimedia.org/wikipedia/commons...  156  "
      ]
     },
     "execution_count": 50,
     "metadata": {},
     "output_type": "execute_result"
    }
   ],
   "source": [
    "df.head()"
   ]
  },
  {
   "cell_type": "code",
   "execution_count": 76,
   "id": "a85e45ae",
   "metadata": {},
   "outputs": [
    {
     "data": {
      "text/plain": [
       "(10, 14)"
      ]
     },
     "execution_count": 76,
     "metadata": {},
     "output_type": "execute_result"
    }
   ],
   "source": [
    "df.shape"
   ]
  },
  {
   "cell_type": "code",
   "execution_count": null,
   "id": "9dc8199e",
   "metadata": {},
   "outputs": [],
   "source": []
  },
  {
   "cell_type": "code",
   "execution_count": 58,
   "id": "900378b1",
   "metadata": {},
   "outputs": [
    {
     "data": {
      "text/plain": [
       "name           object\n",
       "latin_name     object\n",
       "animal_type    object\n",
       "active_time    object\n",
       "length_min     object\n",
       "length_max     object\n",
       "weight_min     object\n",
       "weight_max     object\n",
       "lifespan       object\n",
       "habitat        object\n",
       "diet           object\n",
       "geo_range      object\n",
       "image_link     object\n",
       "id              int64\n",
       "dtype: object"
      ]
     },
     "execution_count": 58,
     "metadata": {},
     "output_type": "execute_result"
    }
   ],
   "source": [
    "df.dtypes"
   ]
  },
  {
   "cell_type": "code",
   "execution_count": 61,
   "id": "985d93c5",
   "metadata": {},
   "outputs": [],
   "source": [
    "df.length_min = df.length_min.astype(float)"
   ]
  },
  {
   "cell_type": "code",
   "execution_count": 62,
   "id": "cb513412",
   "metadata": {},
   "outputs": [],
   "source": [
    "df.length_max = df.length_max.astype(float)"
   ]
  },
  {
   "cell_type": "code",
   "execution_count": 63,
   "id": "8abe8482",
   "metadata": {},
   "outputs": [
    {
     "data": {
      "text/plain": [
       "name            object\n",
       "latin_name      object\n",
       "animal_type     object\n",
       "active_time     object\n",
       "length_min     float64\n",
       "length_max     float64\n",
       "weight_min      object\n",
       "weight_max      object\n",
       "lifespan        object\n",
       "habitat         object\n",
       "diet            object\n",
       "geo_range       object\n",
       "image_link      object\n",
       "id               int64\n",
       "dtype: object"
      ]
     },
     "execution_count": 63,
     "metadata": {},
     "output_type": "execute_result"
    }
   ],
   "source": [
    "df.dtypes"
   ]
  },
  {
   "cell_type": "code",
   "execution_count": 65,
   "id": "7dc54181",
   "metadata": {},
   "outputs": [],
   "source": [
    "df.weight_min = df.weight_min.astype(float)"
   ]
  },
  {
   "cell_type": "code",
   "execution_count": 66,
   "id": "300a8cb6",
   "metadata": {},
   "outputs": [],
   "source": [
    "df.weight_max = df.weight_max.astype(float)"
   ]
  },
  {
   "cell_type": "code",
   "execution_count": 69,
   "id": "1de30283",
   "metadata": {},
   "outputs": [
    {
     "data": {
      "text/plain": [
       "name            object\n",
       "latin_name      object\n",
       "animal_type     object\n",
       "active_time     object\n",
       "length_min     float64\n",
       "length_max     float64\n",
       "weight_min     float64\n",
       "weight_max     float64\n",
       "lifespan        object\n",
       "habitat         object\n",
       "diet            object\n",
       "geo_range       object\n",
       "image_link      object\n",
       "id               int64\n",
       "dtype: object"
      ]
     },
     "execution_count": 69,
     "metadata": {},
     "output_type": "execute_result"
    }
   ],
   "source": [
    "df.dtypes"
   ]
  },
  {
   "cell_type": "code",
   "execution_count": 67,
   "id": "d080378e",
   "metadata": {},
   "outputs": [
    {
     "data": {
      "text/plain": [
       "3.1550000000000002"
      ]
     },
     "execution_count": 67,
     "metadata": {},
     "output_type": "execute_result"
    }
   ],
   "source": [
    "df.length_min.mean()"
   ]
  },
  {
   "cell_type": "code",
   "execution_count": 70,
   "id": "213ecdb7",
   "metadata": {},
   "outputs": [
    {
     "data": {
      "text/plain": [
       "2.201571408486826"
      ]
     },
     "execution_count": 70,
     "metadata": {},
     "output_type": "execute_result"
    }
   ],
   "source": [
    "df.length_min.std()"
   ]
  },
  {
   "cell_type": "code",
   "execution_count": 72,
   "id": "cd0eba61",
   "metadata": {},
   "outputs": [
    {
     "data": {
      "text/plain": [
       "0    False\n",
       "1    False\n",
       "2     True\n",
       "3     True\n",
       "4    False\n",
       "5     True\n",
       "6    False\n",
       "7     True\n",
       "8    False\n",
       "9     True\n",
       "Name: weight_min, dtype: bool"
      ]
     },
     "execution_count": 72,
     "metadata": {},
     "output_type": "execute_result"
    }
   ],
   "source": [
    "heavy = df.weight_min > 15\n",
    "heavy"
   ]
  },
  {
   "cell_type": "code",
   "execution_count": 74,
   "id": "47427442",
   "metadata": {},
   "outputs": [
    {
     "data": {
      "text/html": [
       "<div>\n",
       "<style scoped>\n",
       "    .dataframe tbody tr th:only-of-type {\n",
       "        vertical-align: middle;\n",
       "    }\n",
       "\n",
       "    .dataframe tbody tr th {\n",
       "        vertical-align: top;\n",
       "    }\n",
       "\n",
       "    .dataframe thead th {\n",
       "        text-align: right;\n",
       "    }\n",
       "</style>\n",
       "<table border=\"1\" class=\"dataframe\">\n",
       "  <thead>\n",
       "    <tr style=\"text-align: right;\">\n",
       "      <th></th>\n",
       "      <th>name</th>\n",
       "      <th>latin_name</th>\n",
       "      <th>animal_type</th>\n",
       "      <th>active_time</th>\n",
       "      <th>length_min</th>\n",
       "      <th>length_max</th>\n",
       "      <th>weight_min</th>\n",
       "      <th>weight_max</th>\n",
       "      <th>lifespan</th>\n",
       "      <th>habitat</th>\n",
       "      <th>diet</th>\n",
       "      <th>geo_range</th>\n",
       "      <th>image_link</th>\n",
       "      <th>id</th>\n",
       "    </tr>\n",
       "  </thead>\n",
       "  <tbody>\n",
       "    <tr>\n",
       "      <th>min</th>\n",
       "      <td>African Pygmy Falcon</td>\n",
       "      <td>Alouatta caraya</td>\n",
       "      <td>Bird</td>\n",
       "      <td>Diurnal</td>\n",
       "      <td>0.6</td>\n",
       "      <td>0.7</td>\n",
       "      <td>0.1</td>\n",
       "      <td>0.16</td>\n",
       "      <td>11</td>\n",
       "      <td>Desert, mountains, grasslands and coasts</td>\n",
       "      <td>Carrion</td>\n",
       "      <td>Canada and the United States</td>\n",
       "      <td>https://upload.wikimedia.org/wikipedia/commons...</td>\n",
       "      <td>6</td>\n",
       "    </tr>\n",
       "    <tr>\n",
       "      <th>max</th>\n",
       "      <td>Snow Leopard</td>\n",
       "      <td>Vultur gryphus</td>\n",
       "      <td>Reptile</td>\n",
       "      <td>Nocturnal</td>\n",
       "      <td>7.0</td>\n",
       "      <td>8.6</td>\n",
       "      <td>400.0</td>\n",
       "      <td>850.00</td>\n",
       "      <td>7</td>\n",
       "      <td>Tropical forest</td>\n",
       "      <td>Primarily blue sheep and ibex; some other hoof...</td>\n",
       "      <td>Western South America</td>\n",
       "      <td>https://upload.wikimedia.org/wikipedia/commons...</td>\n",
       "      <td>164</td>\n",
       "    </tr>\n",
       "  </tbody>\n",
       "</table>\n",
       "</div>"
      ],
      "text/plain": [
       "                     name       latin_name animal_type active_time  \\\n",
       "min  African Pygmy Falcon  Alouatta caraya        Bird     Diurnal   \n",
       "max          Snow Leopard   Vultur gryphus     Reptile   Nocturnal   \n",
       "\n",
       "     length_min  length_max  weight_min  weight_max lifespan  \\\n",
       "min         0.6         0.7         0.1        0.16       11   \n",
       "max         7.0         8.6       400.0      850.00        7   \n",
       "\n",
       "                                      habitat  \\\n",
       "min  Desert, mountains, grasslands and coasts   \n",
       "max                           Tropical forest   \n",
       "\n",
       "                                                  diet  \\\n",
       "min                                            Carrion   \n",
       "max  Primarily blue sheep and ibex; some other hoof...   \n",
       "\n",
       "                        geo_range  \\\n",
       "min  Canada and the United States   \n",
       "max         Western South America   \n",
       "\n",
       "                                            image_link   id  \n",
       "min  https://upload.wikimedia.org/wikipedia/commons...    6  \n",
       "max  https://upload.wikimedia.org/wikipedia/commons...  164  "
      ]
     },
     "execution_count": 74,
     "metadata": {},
     "output_type": "execute_result"
    }
   ],
   "source": [
    "df.agg(['min', 'max'])"
   ]
  },
  {
   "cell_type": "code",
   "execution_count": 75,
   "id": "35d710b1",
   "metadata": {},
   "outputs": [
    {
     "data": {
      "text/html": [
       "<div>\n",
       "<style scoped>\n",
       "    .dataframe tbody tr th:only-of-type {\n",
       "        vertical-align: middle;\n",
       "    }\n",
       "\n",
       "    .dataframe tbody tr th {\n",
       "        vertical-align: top;\n",
       "    }\n",
       "\n",
       "    .dataframe thead th {\n",
       "        text-align: right;\n",
       "    }\n",
       "</style>\n",
       "<table border=\"1\" class=\"dataframe\">\n",
       "  <thead>\n",
       "    <tr style=\"text-align: right;\">\n",
       "      <th></th>\n",
       "      <th>name</th>\n",
       "      <th>latin_name</th>\n",
       "      <th>animal_type</th>\n",
       "      <th>active_time</th>\n",
       "      <th>length_min</th>\n",
       "      <th>length_max</th>\n",
       "      <th>weight_min</th>\n",
       "      <th>weight_max</th>\n",
       "      <th>lifespan</th>\n",
       "      <th>habitat</th>\n",
       "      <th>diet</th>\n",
       "      <th>geo_range</th>\n",
       "      <th>image_link</th>\n",
       "      <th>id</th>\n",
       "    </tr>\n",
       "  </thead>\n",
       "  <tbody>\n",
       "    <tr>\n",
       "      <th>0</th>\n",
       "      <td>North American River Otter</td>\n",
       "      <td>Lutra canadensis</td>\n",
       "      <td>Mammal</td>\n",
       "      <td>Nocturnal</td>\n",
       "      <td>3.20</td>\n",
       "      <td>3.90</td>\n",
       "      <td>11.0</td>\n",
       "      <td>33.00</td>\n",
       "      <td>11</td>\n",
       "      <td>Freshwater rivers, streams, lakes, ponds, mars...</td>\n",
       "      <td>Fish, crayfish, ducklings, turtles, and other ...</td>\n",
       "      <td>Canada and the United States</td>\n",
       "      <td>https://upload.wikimedia.org/wikipedia/commons...</td>\n",
       "      <td>125</td>\n",
       "    </tr>\n",
       "    <tr>\n",
       "      <th>1</th>\n",
       "      <td>Coquerel's Sifaka</td>\n",
       "      <td>Propithecus coquereli</td>\n",
       "      <td>Mammal</td>\n",
       "      <td>Diurnal</td>\n",
       "      <td>1.40</td>\n",
       "      <td>1.70</td>\n",
       "      <td>7.5</td>\n",
       "      <td>11.00</td>\n",
       "      <td>11</td>\n",
       "      <td>Forest</td>\n",
       "      <td>Leaves, fruit, and flowers</td>\n",
       "      <td>Northwestern Madagascar</td>\n",
       "      <td>https://upload.wikimedia.org/wikipedia/commons...</td>\n",
       "      <td>57</td>\n",
       "    </tr>\n",
       "    <tr>\n",
       "      <th>2</th>\n",
       "      <td>Snow Leopard</td>\n",
       "      <td>Uncia uncia</td>\n",
       "      <td>Mammal</td>\n",
       "      <td>Diurnal</td>\n",
       "      <td>2.50</td>\n",
       "      <td>4.90</td>\n",
       "      <td>77.0</td>\n",
       "      <td>120.00</td>\n",
       "      <td>14</td>\n",
       "      <td>Mountain regions, including grassland, scrubla...</td>\n",
       "      <td>Primarily blue sheep and ibex; some other hoof...</td>\n",
       "      <td>Central Asia</td>\n",
       "      <td>https://upload.wikimedia.org/wikipedia/commons...</td>\n",
       "      <td>164</td>\n",
       "    </tr>\n",
       "    <tr>\n",
       "      <th>3</th>\n",
       "      <td>Andean Condor</td>\n",
       "      <td>Vultur gryphus</td>\n",
       "      <td>Bird</td>\n",
       "      <td>Diurnal</td>\n",
       "      <td>3.30</td>\n",
       "      <td>4.30</td>\n",
       "      <td>18.0</td>\n",
       "      <td>33.00</td>\n",
       "      <td>46</td>\n",
       "      <td>Desert, mountains, grasslands and coasts</td>\n",
       "      <td>Carrion</td>\n",
       "      <td>Western South America</td>\n",
       "      <td>https://upload.wikimedia.org/wikipedia/commons...</td>\n",
       "      <td>14</td>\n",
       "    </tr>\n",
       "    <tr>\n",
       "      <th>4</th>\n",
       "      <td>Saddle-billed Stork</td>\n",
       "      <td>Ephippiorhynchus senegalensis</td>\n",
       "      <td>Bird</td>\n",
       "      <td>Diurnal</td>\n",
       "      <td>4.75</td>\n",
       "      <td>4.92</td>\n",
       "      <td>11.0</td>\n",
       "      <td>16.00</td>\n",
       "      <td>12</td>\n",
       "      <td>Freshwater marshes, rivers, floodplains and la...</td>\n",
       "      <td>Mainly fish, some other small aquatic creature...</td>\n",
       "      <td>Central Africa</td>\n",
       "      <td>https://upload.wikimedia.org/wikipedia/commons...</td>\n",
       "      <td>156</td>\n",
       "    </tr>\n",
       "    <tr>\n",
       "      <th>5</th>\n",
       "      <td>Radiated Tortoise</td>\n",
       "      <td>Geochelone radiate</td>\n",
       "      <td>Reptile</td>\n",
       "      <td>Diurnal</td>\n",
       "      <td>1.10</td>\n",
       "      <td>1.30</td>\n",
       "      <td>30.0</td>\n",
       "      <td>35.00</td>\n",
       "      <td>50</td>\n",
       "      <td>Dry woodlands</td>\n",
       "      <td>Grass, fruit, and cactus</td>\n",
       "      <td>Southern Madagascar</td>\n",
       "      <td>https://upload.wikimedia.org/wikipedia/commons...</td>\n",
       "      <td>141</td>\n",
       "    </tr>\n",
       "    <tr>\n",
       "      <th>6</th>\n",
       "      <td>Black Howler Monkey</td>\n",
       "      <td>Alouatta caraya</td>\n",
       "      <td>Mammal</td>\n",
       "      <td>Diurnal</td>\n",
       "      <td>1.50</td>\n",
       "      <td>2.00</td>\n",
       "      <td>9.0</td>\n",
       "      <td>22.00</td>\n",
       "      <td>18</td>\n",
       "      <td>Tropical forest</td>\n",
       "      <td>Leaves, flowers and fruit</td>\n",
       "      <td>South America</td>\n",
       "      <td>https://upload.wikimedia.org/wikipedia/commons...</td>\n",
       "      <td>31</td>\n",
       "    </tr>\n",
       "    <tr>\n",
       "      <th>7</th>\n",
       "      <td>Plains Zebra</td>\n",
       "      <td>Equus quagga</td>\n",
       "      <td>Mammal</td>\n",
       "      <td>Diurnal</td>\n",
       "      <td>7.00</td>\n",
       "      <td>8.00</td>\n",
       "      <td>385.0</td>\n",
       "      <td>850.00</td>\n",
       "      <td>15</td>\n",
       "      <td>Savannah and woodland</td>\n",
       "      <td>Grass</td>\n",
       "      <td>Eastern and Southern Africa</td>\n",
       "      <td>https://upload.wikimedia.org/wikipedia/commons...</td>\n",
       "      <td>137</td>\n",
       "    </tr>\n",
       "    <tr>\n",
       "      <th>8</th>\n",
       "      <td>African Pygmy Falcon</td>\n",
       "      <td>Polihierax semitorquatus</td>\n",
       "      <td>Bird</td>\n",
       "      <td>Diurnal</td>\n",
       "      <td>0.60</td>\n",
       "      <td>0.70</td>\n",
       "      <td>0.1</td>\n",
       "      <td>0.16</td>\n",
       "      <td>7</td>\n",
       "      <td>Savannah</td>\n",
       "      <td>Insects, lizards, birds and rodents</td>\n",
       "      <td>Eastern and Southern Africa</td>\n",
       "      <td>https://upload.wikimedia.org/wikipedia/commons...</td>\n",
       "      <td>6</td>\n",
       "    </tr>\n",
       "    <tr>\n",
       "      <th>9</th>\n",
       "      <td>Okapi</td>\n",
       "      <td>Okapia johnstoni</td>\n",
       "      <td>Mammal</td>\n",
       "      <td>Diurnal</td>\n",
       "      <td>6.20</td>\n",
       "      <td>8.60</td>\n",
       "      <td>400.0</td>\n",
       "      <td>700.00</td>\n",
       "      <td>16</td>\n",
       "      <td>Forest</td>\n",
       "      <td>Leaves, grass, fruit and fungi</td>\n",
       "      <td>Democratic Republic of Congo, Africa</td>\n",
       "      <td>https://upload.wikimedia.org/wikipedia/commons...</td>\n",
       "      <td>127</td>\n",
       "    </tr>\n",
       "  </tbody>\n",
       "</table>\n",
       "</div>"
      ],
      "text/plain": [
       "                         name                     latin_name animal_type  \\\n",
       "0  North American River Otter               Lutra canadensis      Mammal   \n",
       "1           Coquerel's Sifaka          Propithecus coquereli      Mammal   \n",
       "2                Snow Leopard                    Uncia uncia      Mammal   \n",
       "3               Andean Condor                 Vultur gryphus        Bird   \n",
       "4         Saddle-billed Stork  Ephippiorhynchus senegalensis        Bird   \n",
       "5           Radiated Tortoise             Geochelone radiate     Reptile   \n",
       "6         Black Howler Monkey                Alouatta caraya      Mammal   \n",
       "7                Plains Zebra                   Equus quagga      Mammal   \n",
       "8        African Pygmy Falcon       Polihierax semitorquatus        Bird   \n",
       "9                       Okapi               Okapia johnstoni      Mammal   \n",
       "\n",
       "  active_time  length_min  length_max  weight_min  weight_max lifespan  \\\n",
       "0   Nocturnal        3.20        3.90        11.0       33.00       11   \n",
       "1     Diurnal        1.40        1.70         7.5       11.00       11   \n",
       "2     Diurnal        2.50        4.90        77.0      120.00       14   \n",
       "3     Diurnal        3.30        4.30        18.0       33.00       46   \n",
       "4     Diurnal        4.75        4.92        11.0       16.00       12   \n",
       "5     Diurnal        1.10        1.30        30.0       35.00       50   \n",
       "6     Diurnal        1.50        2.00         9.0       22.00       18   \n",
       "7     Diurnal        7.00        8.00       385.0      850.00       15   \n",
       "8     Diurnal        0.60        0.70         0.1        0.16        7   \n",
       "9     Diurnal        6.20        8.60       400.0      700.00       16   \n",
       "\n",
       "                                             habitat  \\\n",
       "0  Freshwater rivers, streams, lakes, ponds, mars...   \n",
       "1                                             Forest   \n",
       "2  Mountain regions, including grassland, scrubla...   \n",
       "3           Desert, mountains, grasslands and coasts   \n",
       "4  Freshwater marshes, rivers, floodplains and la...   \n",
       "5                                      Dry woodlands   \n",
       "6                                    Tropical forest   \n",
       "7                              Savannah and woodland   \n",
       "8                                           Savannah   \n",
       "9                                             Forest   \n",
       "\n",
       "                                                diet  \\\n",
       "0  Fish, crayfish, ducklings, turtles, and other ...   \n",
       "1                         Leaves, fruit, and flowers   \n",
       "2  Primarily blue sheep and ibex; some other hoof...   \n",
       "3                                            Carrion   \n",
       "4  Mainly fish, some other small aquatic creature...   \n",
       "5                           Grass, fruit, and cactus   \n",
       "6                          Leaves, flowers and fruit   \n",
       "7                                              Grass   \n",
       "8                Insects, lizards, birds and rodents   \n",
       "9                     Leaves, grass, fruit and fungi   \n",
       "\n",
       "                              geo_range  \\\n",
       "0          Canada and the United States   \n",
       "1               Northwestern Madagascar   \n",
       "2                          Central Asia   \n",
       "3                 Western South America   \n",
       "4                        Central Africa   \n",
       "5                   Southern Madagascar   \n",
       "6                         South America   \n",
       "7           Eastern and Southern Africa   \n",
       "8           Eastern and Southern Africa   \n",
       "9  Democratic Republic of Congo, Africa   \n",
       "\n",
       "                                          image_link   id  \n",
       "0  https://upload.wikimedia.org/wikipedia/commons...  125  \n",
       "1  https://upload.wikimedia.org/wikipedia/commons...   57  \n",
       "2  https://upload.wikimedia.org/wikipedia/commons...  164  \n",
       "3  https://upload.wikimedia.org/wikipedia/commons...   14  \n",
       "4  https://upload.wikimedia.org/wikipedia/commons...  156  \n",
       "5  https://upload.wikimedia.org/wikipedia/commons...  141  \n",
       "6  https://upload.wikimedia.org/wikipedia/commons...   31  \n",
       "7  https://upload.wikimedia.org/wikipedia/commons...  137  \n",
       "8  https://upload.wikimedia.org/wikipedia/commons...    6  \n",
       "9  https://upload.wikimedia.org/wikipedia/commons...  127  "
      ]
     },
     "execution_count": 75,
     "metadata": {},
     "output_type": "execute_result"
    }
   ],
   "source": [
    "df"
   ]
  },
  {
   "cell_type": "code",
   "execution_count": null,
   "id": "ff145f93",
   "metadata": {},
   "outputs": [],
   "source": []
  }
 ],
 "metadata": {
  "kernelspec": {
   "display_name": "Python 3 (ipykernel)",
   "language": "python",
   "name": "python3"
  },
  "language_info": {
   "codemirror_mode": {
    "name": "ipython",
    "version": 3
   },
   "file_extension": ".py",
   "mimetype": "text/x-python",
   "name": "python",
   "nbconvert_exporter": "python",
   "pygments_lexer": "ipython3",
   "version": "3.8.11"
  }
 },
 "nbformat": 4,
 "nbformat_minor": 5
}
