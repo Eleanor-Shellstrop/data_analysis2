{
 "cells": [
  {
   "cell_type": "code",
   "execution_count": 1,
   "id": "a4a4fdec",
   "metadata": {},
   "outputs": [],
   "source": [
    "import pandas as pd\n",
    "import numpy as np\n",
    "import seaborn as sns\n",
    "import matplotlib.pyplot as plt"
   ]
  },
  {
   "cell_type": "code",
   "execution_count": 2,
   "id": "067be295",
   "metadata": {},
   "outputs": [
    {
     "data": {
      "text/html": [
       "<div>\n",
       "<style scoped>\n",
       "    .dataframe tbody tr th:only-of-type {\n",
       "        vertical-align: middle;\n",
       "    }\n",
       "\n",
       "    .dataframe tbody tr th {\n",
       "        vertical-align: top;\n",
       "    }\n",
       "\n",
       "    .dataframe thead th {\n",
       "        text-align: right;\n",
       "    }\n",
       "</style>\n",
       "<table border=\"1\" class=\"dataframe\">\n",
       "  <thead>\n",
       "    <tr style=\"text-align: right;\">\n",
       "      <th></th>\n",
       "      <th>Model</th>\n",
       "      <th>MPG</th>\n",
       "      <th>Cylinders</th>\n",
       "      <th>Displacement</th>\n",
       "      <th>Horsepower</th>\n",
       "      <th>Weight</th>\n",
       "      <th>Acceleration</th>\n",
       "      <th>Year</th>\n",
       "      <th>Origin</th>\n",
       "      <th>bore</th>\n",
       "      <th>stroke</th>\n",
       "      <th>compression-ratio</th>\n",
       "    </tr>\n",
       "  </thead>\n",
       "  <tbody>\n",
       "    <tr>\n",
       "      <th>248</th>\n",
       "      <td>dodge diplomat</td>\n",
       "      <td>19.4</td>\n",
       "      <td>8</td>\n",
       "      <td>318.0</td>\n",
       "      <td>140</td>\n",
       "      <td>3735</td>\n",
       "      <td>13.2</td>\n",
       "      <td>1978</td>\n",
       "      <td>US</td>\n",
       "      <td>3.19</td>\n",
       "      <td>3.40</td>\n",
       "      <td>9.0</td>\n",
       "    </tr>\n",
       "    <tr>\n",
       "      <th>4</th>\n",
       "      <td>ford torino</td>\n",
       "      <td>17.0</td>\n",
       "      <td>8</td>\n",
       "      <td>302.0</td>\n",
       "      <td>140</td>\n",
       "      <td>3449</td>\n",
       "      <td>10.5</td>\n",
       "      <td>1970-1972</td>\n",
       "      <td>US]</td>\n",
       "      <td>3.19</td>\n",
       "      <td>3.40</td>\n",
       "      <td>8.0</td>\n",
       "    </tr>\n",
       "    <tr>\n",
       "      <th>139</th>\n",
       "      <td>audi fox</td>\n",
       "      <td>29.0</td>\n",
       "      <td>4</td>\n",
       "      <td>98.0</td>\n",
       "      <td>83</td>\n",
       "      <td>2219</td>\n",
       "      <td>16.5</td>\n",
       "      <td>1974, 19751974</td>\n",
       "      <td>Europe</td>\n",
       "      <td>3.62</td>\n",
       "      <td>2.64</td>\n",
       "      <td>8.7</td>\n",
       "    </tr>\n",
       "    <tr>\n",
       "      <th>333</th>\n",
       "      <td>honda accord</td>\n",
       "      <td>32.4</td>\n",
       "      <td>4</td>\n",
       "      <td>107.0</td>\n",
       "      <td>72</td>\n",
       "      <td>2290</td>\n",
       "      <td>17.0</td>\n",
       "      <td>1980</td>\n",
       "      <td>Japan</td>\n",
       "      <td>3.15</td>\n",
       "      <td>3.58</td>\n",
       "      <td>9.0</td>\n",
       "    </tr>\n",
       "    <tr>\n",
       "      <th>335</th>\n",
       "      <td>buick skylark</td>\n",
       "      <td>26.6</td>\n",
       "      <td>4</td>\n",
       "      <td>151.0</td>\n",
       "      <td>84</td>\n",
       "      <td>2635</td>\n",
       "      <td>16.4</td>\n",
       "      <td>1980</td>\n",
       "      <td>US</td>\n",
       "      <td>3.15</td>\n",
       "      <td>3.58</td>\n",
       "      <td>9.0</td>\n",
       "    </tr>\n",
       "  </tbody>\n",
       "</table>\n",
       "</div>"
      ],
      "text/plain": [
       "              Model   MPG Cylinders  Displacement  Horsepower  Weight  \\\n",
       "248  dodge diplomat  19.4         8         318.0         140    3735   \n",
       "4       ford torino  17.0         8         302.0         140    3449   \n",
       "139        audi fox  29.0         4          98.0          83    2219   \n",
       "333    honda accord  32.4         4         107.0          72    2290   \n",
       "335   buick skylark  26.6         4         151.0          84    2635   \n",
       "\n",
       "     Acceleration            Year  Origin  bore  stroke  compression-ratio  \n",
       "248          13.2            1978      US  3.19    3.40                9.0  \n",
       "4            10.5       1970-1972     US]  3.19    3.40                8.0  \n",
       "139          16.5  1974, 19751974  Europe  3.62    2.64                8.7  \n",
       "333          17.0            1980   Japan  3.15    3.58                9.0  \n",
       "335          16.4            1980      US  3.15    3.58                9.0  "
      ]
     },
     "execution_count": 2,
     "metadata": {},
     "output_type": "execute_result"
    }
   ],
   "source": [
    "cars_data = pd.read_csv(\"datasets/cars.csv\")\n",
    "\n",
    "cars_data.sample(5)"
   ]
  },
  {
   "cell_type": "code",
   "execution_count": 4,
   "id": "e007f27c",
   "metadata": {},
   "outputs": [
    {
     "data": {
      "image/png": "[encoded data removed]",
      "text/plain": [
       "<Figure size 720x576 with 2 Axes>"
      ]
     },
     "metadata": {
      "needs_background": "light"
     },
     "output_type": "display_data"
    }
   ],
   "source": [
    "cars_data.plot.scatter(x='Displacement',\n",
    "                      y='Acceleration',\n",
    "                      c='Horsepower',\n",
    "                      colormap='viridis',\n",
    "                      figsize=(10, 8));"
   ]
  },
  {
   "cell_type": "code",
   "execution_count": 5,
   "id": "a958e5bf",
   "metadata": {},
   "outputs": [
    {
     "data": {
      "image/png": "[encoded data removed]",
      "text/plain": [
       "<Figure size 720x576 with 1 Axes>"
      ]
     },
     "metadata": {
      "needs_background": "light"
     },
     "output_type": "display_data"
    }
   ],
   "source": [
    "cars_data.plot.scatter(x='MPG',\n",
    "                      y='Weight',\n",
    "                      figsize=(10, 8));"
   ]
  },
  {
   "cell_type": "code",
   "execution_count": 6,
   "id": "825dcc3a",
   "metadata": {},
   "outputs": [
    {
     "data": {
      "text/plain": [
       "Model                0\n",
       "MPG                  9\n",
       "Cylinders            0\n",
       "Displacement         0\n",
       "Horsepower           0\n",
       "Weight               0\n",
       "Acceleration         0\n",
       "Year                 0\n",
       "Origin               0\n",
       "bore                 0\n",
       "stroke               0\n",
       "compression-ratio    0\n",
       "dtype: int64"
      ]
     },
     "execution_count": 6,
     "metadata": {},
     "output_type": "execute_result"
    }
   ],
   "source": [
    "# Look for missing values\n",
    "\n",
    "cars_data.isnull().sum()"
   ]
  },
  {
   "cell_type": "code",
   "execution_count": 7,
   "id": "8bd3d965",
   "metadata": {},
   "outputs": [],
   "source": [
    "# Use mean substitution to\n",
    "# fill in missing MPG values\n",
    "\n",
    "cars_data['MPG'] = cars_data['MPG'].fillna(cars_data['MPG'].mean())"
   ]
  },
  {
   "cell_type": "code",
   "execution_count": 9,
   "id": "992786d4",
   "metadata": {},
   "outputs": [
    {
     "data": {
      "text/plain": [
       "Model                0\n",
       "MPG                  0\n",
       "Cylinders            0\n",
       "Displacement         0\n",
       "Horsepower           0\n",
       "Weight               0\n",
       "Acceleration         0\n",
       "Year                 0\n",
       "Origin               0\n",
       "bore                 0\n",
       "stroke               0\n",
       "compression-ratio    0\n",
       "dtype: int64"
      ]
     },
     "execution_count": 9,
     "metadata": {},
     "output_type": "execute_result"
    }
   ],
   "source": [
    "# Check data to make \n",
    "# sure they were fixed\n",
    "\n",
    "cars_data.isnull().sum()"
   ]
  },
  {
   "cell_type": "code",
   "execution_count": 11,
   "id": "fa0429e8",
   "metadata": {},
   "outputs": [],
   "source": [
    "# Drop unused columns\n",
    "\n",
    "to_drop = ['bore',\n",
    "          'stroke',\n",
    "          'compression-ratio']"
   ]
  },
  {
   "cell_type": "code",
   "execution_count": 12,
   "id": "6f1b537f",
   "metadata": {},
   "outputs": [
    {
     "data": {
      "text/html": [
       "<div>\n",
       "<style scoped>\n",
       "    .dataframe tbody tr th:only-of-type {\n",
       "        vertical-align: middle;\n",
       "    }\n",
       "\n",
       "    .dataframe tbody tr th {\n",
       "        vertical-align: top;\n",
       "    }\n",
       "\n",
       "    .dataframe thead th {\n",
       "        text-align: right;\n",
       "    }\n",
       "</style>\n",
       "<table border=\"1\" class=\"dataframe\">\n",
       "  <thead>\n",
       "    <tr style=\"text-align: right;\">\n",
       "      <th></th>\n",
       "      <th>Model</th>\n",
       "      <th>MPG</th>\n",
       "      <th>Cylinders</th>\n",
       "      <th>Displacement</th>\n",
       "      <th>Horsepower</th>\n",
       "      <th>Weight</th>\n",
       "      <th>Acceleration</th>\n",
       "      <th>Year</th>\n",
       "      <th>Origin</th>\n",
       "    </tr>\n",
       "  </thead>\n",
       "  <tbody>\n",
       "    <tr>\n",
       "      <th>0</th>\n",
       "      <td>chevrolet chevelle malibu</td>\n",
       "      <td>18.0</td>\n",
       "      <td>8</td>\n",
       "      <td>307.0</td>\n",
       "      <td>130</td>\n",
       "      <td>3504</td>\n",
       "      <td>12.0</td>\n",
       "      <td>1970[1975]</td>\n",
       "      <td>US; Detroit, Michigan</td>\n",
       "    </tr>\n",
       "    <tr>\n",
       "      <th>1</th>\n",
       "      <td>buick skylark 320</td>\n",
       "      <td>15.0</td>\n",
       "      <td>8</td>\n",
       "      <td>350.0</td>\n",
       "      <td>165</td>\n",
       "      <td>3693</td>\n",
       "      <td>11.5</td>\n",
       "      <td>1970</td>\n",
       "      <td>US]</td>\n",
       "    </tr>\n",
       "    <tr>\n",
       "      <th>2</th>\n",
       "      <td>plymouth satellite</td>\n",
       "      <td>18.0</td>\n",
       "      <td>8</td>\n",
       "      <td>318.0</td>\n",
       "      <td>150</td>\n",
       "      <td>3436</td>\n",
       "      <td>11.0</td>\n",
       "      <td>1970, 1976</td>\n",
       "      <td>US</td>\n",
       "    </tr>\n",
       "    <tr>\n",
       "      <th>3</th>\n",
       "      <td>amc rebel sst</td>\n",
       "      <td>16.0</td>\n",
       "      <td>8</td>\n",
       "      <td>304.0</td>\n",
       "      <td>150</td>\n",
       "      <td>3433</td>\n",
       "      <td>12.0</td>\n",
       "      <td>1970</td>\n",
       "      <td>US</td>\n",
       "    </tr>\n",
       "    <tr>\n",
       "      <th>4</th>\n",
       "      <td>ford torino</td>\n",
       "      <td>17.0</td>\n",
       "      <td>8</td>\n",
       "      <td>302.0</td>\n",
       "      <td>140</td>\n",
       "      <td>3449</td>\n",
       "      <td>10.5</td>\n",
       "      <td>1970-1972</td>\n",
       "      <td>US]</td>\n",
       "    </tr>\n",
       "  </tbody>\n",
       "</table>\n",
       "</div>"
      ],
      "text/plain": [
       "                       Model   MPG Cylinders  Displacement  Horsepower  \\\n",
       "0  chevrolet chevelle malibu  18.0         8         307.0         130   \n",
       "1          buick skylark 320  15.0         8         350.0         165   \n",
       "2         plymouth satellite  18.0         8         318.0         150   \n",
       "3              amc rebel sst  16.0         8         304.0         150   \n",
       "4                ford torino  17.0         8         302.0         140   \n",
       "\n",
       "   Weight  Acceleration        Year                 Origin  \n",
       "0    3504          12.0  1970[1975]  US; Detroit, Michigan  \n",
       "1    3693          11.5        1970                    US]  \n",
       "2    3436          11.0  1970, 1976                     US  \n",
       "3    3433          12.0        1970                     US  \n",
       "4    3449          10.5   1970-1972                    US]  "
      ]
     },
     "execution_count": 12,
     "metadata": {},
     "output_type": "execute_result"
    }
   ],
   "source": [
    "cars_data.drop(to_drop, inplace=True, axis=1)\n",
    "cars_data.head()"
   ]
  },
  {
   "cell_type": "code",
   "execution_count": 13,
   "id": "1aeb06f5",
   "metadata": {},
   "outputs": [
    {
     "data": {
      "text/plain": [
       "0    1970[1975]\n",
       "1          1970\n",
       "2    1970, 1976\n",
       "3          1970\n",
       "4     1970-1972\n",
       "5          1970\n",
       "6    1970[1975]\n",
       "7          1970\n",
       "8          1970\n",
       "9          1970\n",
       "Name: Year, dtype: object"
      ]
     },
     "execution_count": 13,
     "metadata": {},
     "output_type": "execute_result"
    }
   ],
   "source": [
    "# Change data type\n",
    "\n",
    "cars_data['Year'].head(10)"
   ]
  },
  {
   "cell_type": "code",
   "execution_count": 14,
   "id": "8902c93b",
   "metadata": {},
   "outputs": [
    {
     "data": {
      "text/plain": [
       "True     357\n",
       "False     37\n",
       "Name: Year, dtype: int64"
      ]
     },
     "execution_count": 14,
     "metadata": {},
     "output_type": "execute_result"
    }
   ],
   "source": [
    "# Count the strings to see\n",
    "# which have numeric values\n",
    "\n",
    "cars_data['Year'].str.isnumeric().value_counts()"
   ]
  },
  {
   "cell_type": "code",
   "execution_count": 16,
   "id": "1990f952",
   "metadata": {},
   "outputs": [
    {
     "data": {
      "text/plain": [
       "0          1970[1975]\n",
       "2          1970, 1976\n",
       "4           1970-1972\n",
       "6          1970[1975]\n",
       "30      1971[1973]971\n",
       "35         1971[1973]\n",
       "40         1971[1973]\n",
       "44         1971[1973]\n",
       "49         1971[1973]\n",
       "56         1972[1973]\n",
       "61         1972[1973]\n",
       "65         1972[1973]\n",
       "68         1972[1973]\n",
       "73         1972[1973]\n",
       "75            1972-73\n",
       "79            1972-73\n",
       "82            1972-73\n",
       "96          1973-1974\n",
       "97         1973, 1974\n",
       "102    1973, 19741973\n",
       "105        1973, 1974\n",
       "108        1973, 1974\n",
       "112        1973, 1974\n",
       "115        1973, 1974\n",
       "126        1974, 1975\n",
       "131        1974, 1975\n",
       "134        1974, 1975\n",
       "137        1974, 1975\n",
       "139    1974, 19751974\n",
       "142        1974, 1975\n",
       "365         1982-1985\n",
       "374         1982-1985\n",
       "380         1982-1985\n",
       "383         1982-1985\n",
       "387         1982-1985\n",
       "389         1982-1985\n",
       "391         1982-1985\n",
       "Name: Year, dtype: object"
      ]
     },
     "execution_count": 16,
     "metadata": {},
     "output_type": "execute_result"
    }
   ],
   "source": [
    "# Look for patterns\n",
    "\n",
    "cars_data['Year'].loc[cars_data['Year'].str.isnumeric() == False]"
   ]
  },
  {
   "cell_type": "code",
   "execution_count": 17,
   "id": "e114a9d2",
   "metadata": {},
   "outputs": [
    {
     "data": {
      "text/plain": [
       "0    1970\n",
       "1    1970\n",
       "2    1970\n",
       "3    1970\n",
       "4    1970\n",
       "Name: Year, dtype: object"
      ]
     },
     "execution_count": 17,
     "metadata": {},
     "output_type": "execute_result"
    }
   ],
   "source": [
    "# All have a year in \n",
    "# first 4 numbers\n",
    "\n",
    "extr = cars_data['Year'].str.extract(r'^(\\d{4})', expand=False)\n",
    "\n",
    "extr.head()"
   ]
  },
  {
   "cell_type": "code",
   "execution_count": 19,
   "id": "4048600c",
   "metadata": {},
   "outputs": [
    {
     "data": {
      "text/plain": [
       "dtype('int64')"
      ]
     },
     "execution_count": 19,
     "metadata": {},
     "output_type": "execute_result"
    }
   ],
   "source": [
    "# Can now make numeric\n",
    "\n",
    "cars_data['Year'] = pd.to_numeric(extr)\n",
    "cars_data['Year'].dtype"
   ]
  },
  {
   "cell_type": "code",
   "execution_count": 20,
   "id": "f6b36e9a",
   "metadata": {},
   "outputs": [
    {
     "data": {
      "text/plain": [
       "<AxesSubplot:xlabel='Year', ylabel='MPG'>"
      ]
     },
     "execution_count": 20,
     "metadata": {},
     "output_type": "execute_result"
    },
    {
     "data": {
      "image/png": "[encoded data removed]",
      "text/plain": [
       "<Figure size 720x576 with 1 Axes>"
      ]
     },
     "metadata": {
      "needs_background": "light"
     },
     "output_type": "display_data"
    }
   ],
   "source": [
    "cars_data.plot.scatter(x='Year',\n",
    "                      y='MPG',\n",
    "                      figsize=(10, 8))"
   ]
  },
  {
   "cell_type": "code",
   "execution_count": null,
   "id": "9515c767",
   "metadata": {},
   "outputs": [],
   "source": []
  }
 ],
 "metadata": {
  "kernelspec": {
   "display_name": "Python 3 (ipykernel)",
   "language": "python",
   "name": "python3"
  },
  "language_info": {
   "codemirror_mode": {
    "name": "ipython",
    "version": 3
   },
   "file_extension": ".py",
   "mimetype": "text/x-python",
   "name": "python",
   "nbconvert_exporter": "python",
   "pygments_lexer": "ipython3",
   "version": "3.8.11"
  }
 },
 "nbformat": 4,
 "nbformat_minor": 5
}
