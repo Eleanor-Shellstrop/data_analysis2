{
 "cells": [
  {
   "cell_type": "code",
   "execution_count": 1,
   "id": "df5450ae",
   "metadata": {},
   "outputs": [],
   "source": [
    "import pandas as pd\n",
    "import numpy as np\n",
    "from sklearn import linear_model\n",
    "import math"
   ]
  },
  {
   "cell_type": "code",
   "execution_count": 2,
   "id": "3dbe2807",
   "metadata": {},
   "outputs": [],
   "source": [
    "df = pd.read_csv(\"datasets/updated_crestwood.csv\", index_col=0)"
   ]
  },
  {
   "cell_type": "code",
   "execution_count": 3,
   "id": "7d11f6a4",
   "metadata": {},
   "outputs": [
    {
     "data": {
      "text/html": [
       "<div>\n",
       "<style scoped>\n",
       "    .dataframe tbody tr th:only-of-type {\n",
       "        vertical-align: middle;\n",
       "    }\n",
       "\n",
       "    .dataframe tbody tr th {\n",
       "        vertical-align: top;\n",
       "    }\n",
       "\n",
       "    .dataframe thead th {\n",
       "        text-align: right;\n",
       "    }\n",
       "</style>\n",
       "<table border=\"1\" class=\"dataframe\">\n",
       "  <thead>\n",
       "    <tr style=\"text-align: right;\">\n",
       "      <th></th>\n",
       "      <th>Date_Sold</th>\n",
       "      <th>Price</th>\n",
       "      <th>Beds</th>\n",
       "      <th>Baths</th>\n",
       "      <th>Square_Feet</th>\n",
       "    </tr>\n",
       "  </thead>\n",
       "  <tbody>\n",
       "    <tr>\n",
       "      <th>0</th>\n",
       "      <td>2022-02-03</td>\n",
       "      <td>569900</td>\n",
       "      <td>5</td>\n",
       "      <td>4.0</td>\n",
       "      <td>3557</td>\n",
       "    </tr>\n",
       "    <tr>\n",
       "      <th>1</th>\n",
       "      <td>2022-02-02</td>\n",
       "      <td>242500</td>\n",
       "      <td>2</td>\n",
       "      <td>1.0</td>\n",
       "      <td>1200</td>\n",
       "    </tr>\n",
       "    <tr>\n",
       "      <th>2</th>\n",
       "      <td>2022-01-28</td>\n",
       "      <td>565000</td>\n",
       "      <td>3</td>\n",
       "      <td>2.0</td>\n",
       "      <td>2118</td>\n",
       "    </tr>\n",
       "    <tr>\n",
       "      <th>3</th>\n",
       "      <td>2022-01-28</td>\n",
       "      <td>569900</td>\n",
       "      <td>4</td>\n",
       "      <td>4.0</td>\n",
       "      <td>3364</td>\n",
       "    </tr>\n",
       "    <tr>\n",
       "      <th>4</th>\n",
       "      <td>2022-01-28</td>\n",
       "      <td>415000</td>\n",
       "      <td>4</td>\n",
       "      <td>4.0</td>\n",
       "      <td>3185</td>\n",
       "    </tr>\n",
       "  </tbody>\n",
       "</table>\n",
       "</div>"
      ],
      "text/plain": [
       "    Date_Sold   Price  Beds  Baths  Square_Feet\n",
       "0  2022-02-03  569900     5    4.0         3557\n",
       "1  2022-02-02  242500     2    1.0         1200\n",
       "2  2022-01-28  565000     3    2.0         2118\n",
       "3  2022-01-28  569900     4    4.0         3364\n",
       "4  2022-01-28  415000     4    4.0         3185"
      ]
     },
     "execution_count": 3,
     "metadata": {},
     "output_type": "execute_result"
    }
   ],
   "source": [
    "df.head()"
   ]
  },
  {
   "cell_type": "code",
   "execution_count": 4,
   "id": "aee6f864",
   "metadata": {},
   "outputs": [
    {
     "data": {
      "text/plain": [
       "Date_Sold       object\n",
       "Price            int64\n",
       "Beds             int64\n",
       "Baths          float64\n",
       "Square_Feet      int64\n",
       "dtype: object"
      ]
     },
     "execution_count": 4,
     "metadata": {},
     "output_type": "execute_result"
    }
   ],
   "source": [
    "df.dtypes"
   ]
  },
  {
   "cell_type": "code",
   "execution_count": 5,
   "id": "3e03bcad",
   "metadata": {},
   "outputs": [],
   "source": [
    "df = df.astype({'Date_Sold': 'datetime64[ns]'})"
   ]
  },
  {
   "cell_type": "code",
   "execution_count": 6,
   "id": "b52bdf41",
   "metadata": {},
   "outputs": [
    {
     "data": {
      "text/plain": [
       "Date_Sold      datetime64[ns]\n",
       "Price                   int64\n",
       "Beds                    int64\n",
       "Baths                 float64\n",
       "Square_Feet             int64\n",
       "dtype: object"
      ]
     },
     "execution_count": 6,
     "metadata": {},
     "output_type": "execute_result"
    }
   ],
   "source": [
    "df.dtypes"
   ]
  },
  {
   "cell_type": "code",
   "execution_count": 7,
   "id": "d1ad9ec6",
   "metadata": {},
   "outputs": [],
   "source": [
    "reg = linear_model.LinearRegression()"
   ]
  },
  {
   "cell_type": "code",
   "execution_count": 8,
   "id": "fa7155f6",
   "metadata": {},
   "outputs": [
    {
     "data": {
      "text/plain": [
       "LinearRegression()"
      ]
     },
     "execution_count": 8,
     "metadata": {},
     "output_type": "execute_result"
    }
   ],
   "source": [
    "reg.fit(df[['Square_Feet', 'Beds', 'Baths']], df['Price'])"
   ]
  },
  {
   "cell_type": "code",
   "execution_count": 9,
   "id": "afe8d1ee",
   "metadata": {},
   "outputs": [
    {
     "data": {
      "text/plain": [
       "array([   72.11544819,  3220.78732651, 59937.95913413])"
      ]
     },
     "execution_count": 9,
     "metadata": {},
     "output_type": "execute_result"
    }
   ],
   "source": [
    "reg.coef_"
   ]
  },
  {
   "cell_type": "code",
   "execution_count": 10,
   "id": "78dbcce9",
   "metadata": {},
   "outputs": [
    {
     "data": {
      "text/plain": [
       "29550.134309156274"
      ]
     },
     "execution_count": 10,
     "metadata": {},
     "output_type": "execute_result"
    }
   ],
   "source": [
    "reg.intercept_"
   ]
  },
  {
   "cell_type": "code",
   "execution_count": 11,
   "id": "e7090d45",
   "metadata": {},
   "outputs": [
    {
     "data": {
      "text/plain": [
       "array([303319.31094118])"
      ]
     },
     "execution_count": 11,
     "metadata": {},
     "output_type": "execute_result"
    }
   ],
   "source": [
    "# Predict price of homes\n",
    "\n",
    "# Test 1: 2000 sqft, 3 bed, 2 bath\n",
    "reg.predict([[2000, 3, 2]])"
   ]
  },
  {
   "cell_type": "code",
   "execution_count": 12,
   "id": "344d3291",
   "metadata": {},
   "outputs": [
    {
     "data": {
      "text/plain": [
       "array([264040.79951861])"
      ]
     },
     "execution_count": 12,
     "metadata": {},
     "output_type": "execute_result"
    }
   ],
   "source": [
    "# Test 2: 1500 sqft, 2 bed, 2 bath\n",
    "reg.predict([[1500, 2, 2]])"
   ]
  },
  {
   "cell_type": "code",
   "execution_count": 13,
   "id": "057895c6",
   "metadata": {},
   "outputs": [
    {
     "data": {
      "text/plain": [
       "array([400290.18091743])"
      ]
     },
     "execution_count": 13,
     "metadata": {},
     "output_type": "execute_result"
    }
   ],
   "source": [
    "# Test 3: 3300 sqft, 4 bed, 2 bath\n",
    "reg.predict([[3300, 4, 2]])"
   ]
  },
  {
   "cell_type": "code",
   "execution_count": 14,
   "id": "3db6cdfd",
   "metadata": {},
   "outputs": [],
   "source": [
    "d = {\n",
    "    'area': [1000, 1200, 1500, 1750, 2000, 2200, 2500, 2750, 3000, 3200, 3500, 3700, 4000, 4200, 4500, 4700, 5000],\n",
    "    'beds': [1, 2, 2, 3, 3, 2, 3, 3, 3, 4, 4, 4, 5, 5, 6, 5, 6],\n",
    "    'baths': [1, 1.5, 2, 2, 2, 3, 2.5, 3, 2.5, 3, 4, 4, 5, 4.5, 4, 5, 6]\n",
    "}\n",
    "df2 = pd.DataFrame(data=d)\n",
    "\n",
    "prices = reg.predict(np.array(df2))"
   ]
  },
  {
   "cell_type": "code",
   "execution_count": 15,
   "id": "8c0be186",
   "metadata": {},
   "outputs": [
    {
     "data": {
      "text/html": [
       "<div>\n",
       "<style scoped>\n",
       "    .dataframe tbody tr th:only-of-type {\n",
       "        vertical-align: middle;\n",
       "    }\n",
       "\n",
       "    .dataframe tbody tr th {\n",
       "        vertical-align: top;\n",
       "    }\n",
       "\n",
       "    .dataframe thead th {\n",
       "        text-align: right;\n",
       "    }\n",
       "</style>\n",
       "<table border=\"1\" class=\"dataframe\">\n",
       "  <thead>\n",
       "    <tr style=\"text-align: right;\">\n",
       "      <th></th>\n",
       "      <th>area</th>\n",
       "      <th>beds</th>\n",
       "      <th>baths</th>\n",
       "      <th>Price_Estimate</th>\n",
       "    </tr>\n",
       "  </thead>\n",
       "  <tbody>\n",
       "    <tr>\n",
       "      <th>0</th>\n",
       "      <td>1000</td>\n",
       "      <td>1</td>\n",
       "      <td>1.0</td>\n",
       "      <td>164824.328962</td>\n",
       "    </tr>\n",
       "    <tr>\n",
       "      <th>1</th>\n",
       "      <td>1200</td>\n",
       "      <td>2</td>\n",
       "      <td>1.5</td>\n",
       "      <td>212437.185494</td>\n",
       "    </tr>\n",
       "    <tr>\n",
       "      <th>2</th>\n",
       "      <td>1500</td>\n",
       "      <td>2</td>\n",
       "      <td>2.0</td>\n",
       "      <td>264040.799519</td>\n",
       "    </tr>\n",
       "    <tr>\n",
       "      <th>3</th>\n",
       "      <td>1750</td>\n",
       "      <td>3</td>\n",
       "      <td>2.0</td>\n",
       "      <td>285290.448893</td>\n",
       "    </tr>\n",
       "    <tr>\n",
       "      <th>4</th>\n",
       "      <td>2000</td>\n",
       "      <td>3</td>\n",
       "      <td>2.0</td>\n",
       "      <td>303319.310941</td>\n",
       "    </tr>\n",
       "    <tr>\n",
       "      <th>5</th>\n",
       "      <td>2200</td>\n",
       "      <td>2</td>\n",
       "      <td>3.0</td>\n",
       "      <td>374459.572387</td>\n",
       "    </tr>\n",
       "    <tr>\n",
       "      <th>6</th>\n",
       "      <td>2500</td>\n",
       "      <td>3</td>\n",
       "      <td>2.5</td>\n",
       "      <td>369346.014604</td>\n",
       "    </tr>\n",
       "    <tr>\n",
       "      <th>7</th>\n",
       "      <td>2750</td>\n",
       "      <td>3</td>\n",
       "      <td>3.0</td>\n",
       "      <td>417343.856219</td>\n",
       "    </tr>\n",
       "    <tr>\n",
       "      <th>8</th>\n",
       "      <td>3000</td>\n",
       "      <td>3</td>\n",
       "      <td>2.5</td>\n",
       "      <td>405403.738700</td>\n",
       "    </tr>\n",
       "    <tr>\n",
       "      <th>9</th>\n",
       "      <td>3200</td>\n",
       "      <td>4</td>\n",
       "      <td>3.0</td>\n",
       "      <td>453016.595232</td>\n",
       "    </tr>\n",
       "    <tr>\n",
       "      <th>10</th>\n",
       "      <td>3500</td>\n",
       "      <td>4</td>\n",
       "      <td>4.0</td>\n",
       "      <td>534589.188824</td>\n",
       "    </tr>\n",
       "    <tr>\n",
       "      <th>11</th>\n",
       "      <td>3700</td>\n",
       "      <td>4</td>\n",
       "      <td>4.0</td>\n",
       "      <td>549012.278463</td>\n",
       "    </tr>\n",
       "    <tr>\n",
       "      <th>12</th>\n",
       "      <td>4000</td>\n",
       "      <td>5</td>\n",
       "      <td>5.0</td>\n",
       "      <td>633805.659381</td>\n",
       "    </tr>\n",
       "    <tr>\n",
       "      <th>13</th>\n",
       "      <td>4200</td>\n",
       "      <td>5</td>\n",
       "      <td>4.5</td>\n",
       "      <td>618259.769452</td>\n",
       "    </tr>\n",
       "    <tr>\n",
       "      <th>14</th>\n",
       "      <td>4500</td>\n",
       "      <td>6</td>\n",
       "      <td>4.0</td>\n",
       "      <td>613146.211669</td>\n",
       "    </tr>\n",
       "    <tr>\n",
       "      <th>15</th>\n",
       "      <td>4700</td>\n",
       "      <td>5</td>\n",
       "      <td>5.0</td>\n",
       "      <td>684286.473115</td>\n",
       "    </tr>\n",
       "    <tr>\n",
       "      <th>16</th>\n",
       "      <td>5000</td>\n",
       "      <td>6</td>\n",
       "      <td>6.0</td>\n",
       "      <td>769079.854034</td>\n",
       "    </tr>\n",
       "  </tbody>\n",
       "</table>\n",
       "</div>"
      ],
      "text/plain": [
       "    area  beds  baths  Price_Estimate\n",
       "0   1000     1    1.0   164824.328962\n",
       "1   1200     2    1.5   212437.185494\n",
       "2   1500     2    2.0   264040.799519\n",
       "3   1750     3    2.0   285290.448893\n",
       "4   2000     3    2.0   303319.310941\n",
       "5   2200     2    3.0   374459.572387\n",
       "6   2500     3    2.5   369346.014604\n",
       "7   2750     3    3.0   417343.856219\n",
       "8   3000     3    2.5   405403.738700\n",
       "9   3200     4    3.0   453016.595232\n",
       "10  3500     4    4.0   534589.188824\n",
       "11  3700     4    4.0   549012.278463\n",
       "12  4000     5    5.0   633805.659381\n",
       "13  4200     5    4.5   618259.769452\n",
       "14  4500     6    4.0   613146.211669\n",
       "15  4700     5    5.0   684286.473115\n",
       "16  5000     6    6.0   769079.854034"
      ]
     },
     "execution_count": 15,
     "metadata": {},
     "output_type": "execute_result"
    }
   ],
   "source": [
    "df2['Price_Estimate'] = prices\n",
    "df2"
   ]
  },
  {
   "cell_type": "code",
   "execution_count": 16,
   "id": "071e6f9c",
   "metadata": {},
   "outputs": [],
   "source": [
    "df2.to_csv('datasets/estimated.csv')"
   ]
  },
  {
   "cell_type": "code",
   "execution_count": null,
   "id": "6040b54f",
   "metadata": {},
   "outputs": [],
   "source": []
  }
 ],
 "metadata": {
  "kernelspec": {
   "display_name": "Python 3 (ipykernel)",
   "language": "python",
   "name": "python3"
  },
  "language_info": {
   "codemirror_mode": {
    "name": "ipython",
    "version": 3
   },
   "file_extension": ".py",
   "mimetype": "text/x-python",
   "name": "python",
   "nbconvert_exporter": "python",
   "pygments_lexer": "ipython3",
   "version": "3.8.11"
  }
 },
 "nbformat": 4,
 "nbformat_minor": 5
}
