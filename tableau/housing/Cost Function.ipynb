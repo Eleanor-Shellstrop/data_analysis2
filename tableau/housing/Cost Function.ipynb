{
 "cells": [
  {
   "cell_type": "code",
   "execution_count": 1,
   "id": "df5450ae",
   "metadata": {},
   "outputs": [],
   "source": [
    "import pandas as pd\n",
    "import numpy as np\n",
    "from sklearn import linear_model\n",
    "import math"
   ]
  },
  {
   "cell_type": "code",
   "execution_count": 2,
   "id": "3dbe2807",
   "metadata": {},
   "outputs": [],
   "source": [
    "df = pd.read_csv(\"datasets/updated_crestwood.csv\", index_col=0)"
   ]
  },
  {
   "cell_type": "code",
   "execution_count": 3,
   "id": "7d11f6a4",
   "metadata": {},
   "outputs": [
    {
     "data": {
      "text/html": [
       "<div>\n",
       "<style scoped>\n",
       "    .dataframe tbody tr th:only-of-type {\n",
       "        vertical-align: middle;\n",
       "    }\n",
       "\n",
       "    .dataframe tbody tr th {\n",
       "        vertical-align: top;\n",
       "    }\n",
       "\n",
       "    .dataframe thead th {\n",
       "        text-align: right;\n",
       "    }\n",
       "</style>\n",
       "<table border=\"1\" class=\"dataframe\">\n",
       "  <thead>\n",
       "    <tr style=\"text-align: right;\">\n",
       "      <th></th>\n",
       "      <th>Date_Sold</th>\n",
       "      <th>Price</th>\n",
       "      <th>Beds</th>\n",
       "      <th>Baths</th>\n",
       "      <th>Square_Feet</th>\n",
       "    </tr>\n",
       "  </thead>\n",
       "  <tbody>\n",
       "    <tr>\n",
       "      <th>0</th>\n",
       "      <td>2022-02-03</td>\n",
       "      <td>569900</td>\n",
       "      <td>5</td>\n",
       "      <td>4.0</td>\n",
       "      <td>3557</td>\n",
       "    </tr>\n",
       "    <tr>\n",
       "      <th>1</th>\n",
       "      <td>2022-02-02</td>\n",
       "      <td>242500</td>\n",
       "      <td>2</td>\n",
       "      <td>1.0</td>\n",
       "      <td>1200</td>\n",
       "    </tr>\n",
       "    <tr>\n",
       "      <th>2</th>\n",
       "      <td>2022-01-28</td>\n",
       "      <td>565000</td>\n",
       "      <td>3</td>\n",
       "      <td>2.0</td>\n",
       "      <td>2118</td>\n",
       "    </tr>\n",
       "    <tr>\n",
       "      <th>3</th>\n",
       "      <td>2022-01-28</td>\n",
       "      <td>569900</td>\n",
       "      <td>4</td>\n",
       "      <td>4.0</td>\n",
       "      <td>3364</td>\n",
       "    </tr>\n",
       "    <tr>\n",
       "      <th>4</th>\n",
       "      <td>2022-01-28</td>\n",
       "      <td>415000</td>\n",
       "      <td>4</td>\n",
       "      <td>4.0</td>\n",
       "      <td>3185</td>\n",
       "    </tr>\n",
       "  </tbody>\n",
       "</table>\n",
       "</div>"
      ],
      "text/plain": [
       "    Date_Sold   Price  Beds  Baths  Square_Feet\n",
       "0  2022-02-03  569900     5    4.0         3557\n",
       "1  2022-02-02  242500     2    1.0         1200\n",
       "2  2022-01-28  565000     3    2.0         2118\n",
       "3  2022-01-28  569900     4    4.0         3364\n",
       "4  2022-01-28  415000     4    4.0         3185"
      ]
     },
     "execution_count": 3,
     "metadata": {},
     "output_type": "execute_result"
    }
   ],
   "source": [
    "df.head()"
   ]
  },
  {
   "cell_type": "code",
   "execution_count": 4,
   "id": "aee6f864",
   "metadata": {},
   "outputs": [
    {
     "data": {
      "text/plain": [
       "Date_Sold       object\n",
       "Price            int64\n",
       "Beds             int64\n",
       "Baths          float64\n",
       "Square_Feet      int64\n",
       "dtype: object"
      ]
     },
     "execution_count": 4,
     "metadata": {},
     "output_type": "execute_result"
    }
   ],
   "source": [
    "df.dtypes"
   ]
  },
  {
   "cell_type": "code",
   "execution_count": 5,
   "id": "3e03bcad",
   "metadata": {},
   "outputs": [],
   "source": [
    "df = df.astype({'Date_Sold': 'datetime64[ns]'})"
   ]
  },
  {
   "cell_type": "code",
   "execution_count": 6,
   "id": "b52bdf41",
   "metadata": {},
   "outputs": [
    {
     "data": {
      "text/plain": [
       "Date_Sold      datetime64[ns]\n",
       "Price                   int64\n",
       "Beds                    int64\n",
       "Baths                 float64\n",
       "Square_Feet             int64\n",
       "dtype: object"
      ]
     },
     "execution_count": 6,
     "metadata": {},
     "output_type": "execute_result"
    }
   ],
   "source": [
    "df.dtypes"
   ]
  },
  {
   "cell_type": "code",
   "execution_count": 7,
   "id": "d1ad9ec6",
   "metadata": {},
   "outputs": [],
   "source": [
    "reg = linear_model.LinearRegression()"
   ]
  },
  {
   "cell_type": "code",
   "execution_count": 8,
   "id": "fa7155f6",
   "metadata": {},
   "outputs": [
    {
     "data": {
      "text/plain": [
       "LinearRegression()"
      ]
     },
     "execution_count": 8,
     "metadata": {},
     "output_type": "execute_result"
    }
   ],
   "source": [
    "reg.fit(df[['Square_Feet', 'Beds', 'Baths']], df['Price'])"
   ]
  },
  {
   "cell_type": "code",
   "execution_count": 9,
   "id": "afe8d1ee",
   "metadata": {},
   "outputs": [
    {
     "data": {
      "text/plain": [
       "array([   72.11544819,  3220.78732651, 59937.95913413])"
      ]
     },
     "execution_count": 9,
     "metadata": {},
     "output_type": "execute_result"
    }
   ],
   "source": [
    "reg.coef_"
   ]
  },
  {
   "cell_type": "code",
   "execution_count": 10,
   "id": "78dbcce9",
   "metadata": {},
   "outputs": [
    {
     "data": {
      "text/plain": [
       "29550.134309156274"
      ]
     },
     "execution_count": 10,
     "metadata": {},
     "output_type": "execute_result"
    }
   ],
   "source": [
    "reg.intercept_"
   ]
  },
  {
   "cell_type": "code",
   "execution_count": 11,
   "id": "e7090d45",
   "metadata": {},
   "outputs": [
    {
     "data": {
      "text/plain": [
       "array([303319.31094118])"
      ]
     },
     "execution_count": 11,
     "metadata": {},
     "output_type": "execute_result"
    }
   ],
   "source": [
    "# Predict price of homes\n",
    "\n",
    "# Test 1: 2000 sqft, 3 bed, 2 bath\n",
    "reg.predict([[2000, 3, 2]])"
   ]
  },
  {
   "cell_type": "code",
   "execution_count": 12,
   "id": "344d3291",
   "metadata": {},
   "outputs": [
    {
     "data": {
      "text/plain": [
       "array([264040.79951861])"
      ]
     },
     "execution_count": 12,
     "metadata": {},
     "output_type": "execute_result"
    }
   ],
   "source": [
    "# Test 2: 1500 sqft, 2 bed, 2 bath\n",
    "reg.predict([[1500, 2, 2]])"
   ]
  },
  {
   "cell_type": "code",
   "execution_count": 13,
   "id": "057895c6",
   "metadata": {},
   "outputs": [
    {
     "data": {
      "text/plain": [
       "array([400290.18091743])"
      ]
     },
     "execution_count": 13,
     "metadata": {},
     "output_type": "execute_result"
    }
   ],
   "source": [
    "# Test 3: 3300 sqft, 4 bed, 2 bath\n",
    "reg.predict([[3300, 4, 2]])"
   ]
  },
  {
   "cell_type": "code",
   "execution_count": 14,
   "id": "3db6cdfd",
   "metadata": {},
   "outputs": [],
   "source": [
    "df2 = pd.read_csv(\"datasets/test_housing.csv\")\n",
    "\n",
    "prices = reg.predict(np.array(df2))"
   ]
  },
  {
   "cell_type": "code",
   "execution_count": 15,
   "id": "8c0be186",
   "metadata": {},
   "outputs": [
    {
     "data": {
      "text/html": [
       "<div>\n",
       "<style scoped>\n",
       "    .dataframe tbody tr th:only-of-type {\n",
       "        vertical-align: middle;\n",
       "    }\n",
       "\n",
       "    .dataframe tbody tr th {\n",
       "        vertical-align: top;\n",
       "    }\n",
       "\n",
       "    .dataframe thead th {\n",
       "        text-align: right;\n",
       "    }\n",
       "</style>\n",
       "<table border=\"1\" class=\"dataframe\">\n",
       "  <thead>\n",
       "    <tr style=\"text-align: right;\">\n",
       "      <th></th>\n",
       "      <th>Square_Feet</th>\n",
       "      <th>Beds</th>\n",
       "      <th>Baths</th>\n",
       "      <th>Price_Estimate</th>\n",
       "    </tr>\n",
       "  </thead>\n",
       "  <tbody>\n",
       "    <tr>\n",
       "      <th>0</th>\n",
       "      <td>1000</td>\n",
       "      <td>2</td>\n",
       "      <td>1.0</td>\n",
       "      <td>168045.116288</td>\n",
       "    </tr>\n",
       "    <tr>\n",
       "      <th>1</th>\n",
       "      <td>3400</td>\n",
       "      <td>3</td>\n",
       "      <td>3.0</td>\n",
       "      <td>464218.897544</td>\n",
       "    </tr>\n",
       "    <tr>\n",
       "      <th>2</th>\n",
       "      <td>2560</td>\n",
       "      <td>3</td>\n",
       "      <td>2.0</td>\n",
       "      <td>343703.961929</td>\n",
       "    </tr>\n",
       "    <tr>\n",
       "      <th>3</th>\n",
       "      <td>5200</td>\n",
       "      <td>5</td>\n",
       "      <td>5.5</td>\n",
       "      <td>750313.176778</td>\n",
       "    </tr>\n",
       "    <tr>\n",
       "      <th>4</th>\n",
       "      <td>3350</td>\n",
       "      <td>3</td>\n",
       "      <td>3.5</td>\n",
       "      <td>490582.104702</td>\n",
       "    </tr>\n",
       "    <tr>\n",
       "      <th>5</th>\n",
       "      <td>3000</td>\n",
       "      <td>3</td>\n",
       "      <td>2.5</td>\n",
       "      <td>405403.738700</td>\n",
       "    </tr>\n",
       "    <tr>\n",
       "      <th>6</th>\n",
       "      <td>2750</td>\n",
       "      <td>3</td>\n",
       "      <td>2.0</td>\n",
       "      <td>357405.897085</td>\n",
       "    </tr>\n",
       "    <tr>\n",
       "      <th>7</th>\n",
       "      <td>2460</td>\n",
       "      <td>2</td>\n",
       "      <td>2.0</td>\n",
       "      <td>333271.629783</td>\n",
       "    </tr>\n",
       "    <tr>\n",
       "      <th>8</th>\n",
       "      <td>6200</td>\n",
       "      <td>6</td>\n",
       "      <td>6.0</td>\n",
       "      <td>855618.391864</td>\n",
       "    </tr>\n",
       "    <tr>\n",
       "      <th>9</th>\n",
       "      <td>1500</td>\n",
       "      <td>2</td>\n",
       "      <td>2.0</td>\n",
       "      <td>264040.799519</td>\n",
       "    </tr>\n",
       "    <tr>\n",
       "      <th>10</th>\n",
       "      <td>1970</td>\n",
       "      <td>2</td>\n",
       "      <td>2.5</td>\n",
       "      <td>327904.039736</td>\n",
       "    </tr>\n",
       "    <tr>\n",
       "      <th>11</th>\n",
       "      <td>4000</td>\n",
       "      <td>4</td>\n",
       "      <td>4.0</td>\n",
       "      <td>570646.912920</td>\n",
       "    </tr>\n",
       "    <tr>\n",
       "      <th>12</th>\n",
       "      <td>4600</td>\n",
       "      <td>4</td>\n",
       "      <td>4.5</td>\n",
       "      <td>643885.161403</td>\n",
       "    </tr>\n",
       "    <tr>\n",
       "      <th>13</th>\n",
       "      <td>5420</td>\n",
       "      <td>5</td>\n",
       "      <td>4.0</td>\n",
       "      <td>676271.636679</td>\n",
       "    </tr>\n",
       "    <tr>\n",
       "      <th>14</th>\n",
       "      <td>1690</td>\n",
       "      <td>2</td>\n",
       "      <td>2.0</td>\n",
       "      <td>277742.734675</td>\n",
       "    </tr>\n",
       "    <tr>\n",
       "      <th>15</th>\n",
       "      <td>2275</td>\n",
       "      <td>3</td>\n",
       "      <td>2.0</td>\n",
       "      <td>323151.059194</td>\n",
       "    </tr>\n",
       "    <tr>\n",
       "      <th>16</th>\n",
       "      <td>2600</td>\n",
       "      <td>3</td>\n",
       "      <td>2.5</td>\n",
       "      <td>376557.559424</td>\n",
       "    </tr>\n",
       "    <tr>\n",
       "      <th>17</th>\n",
       "      <td>3920</td>\n",
       "      <td>4</td>\n",
       "      <td>2.0</td>\n",
       "      <td>445001.758797</td>\n",
       "    </tr>\n",
       "    <tr>\n",
       "      <th>18</th>\n",
       "      <td>4530</td>\n",
       "      <td>4</td>\n",
       "      <td>4.0</td>\n",
       "      <td>608868.100462</td>\n",
       "    </tr>\n",
       "    <tr>\n",
       "      <th>19</th>\n",
       "      <td>4430</td>\n",
       "      <td>4</td>\n",
       "      <td>3.5</td>\n",
       "      <td>571687.576076</td>\n",
       "    </tr>\n",
       "    <tr>\n",
       "      <th>20</th>\n",
       "      <td>6040</td>\n",
       "      <td>5</td>\n",
       "      <td>5.0</td>\n",
       "      <td>780921.173693</td>\n",
       "    </tr>\n",
       "    <tr>\n",
       "      <th>21</th>\n",
       "      <td>2580</td>\n",
       "      <td>3</td>\n",
       "      <td>3.0</td>\n",
       "      <td>405084.230027</td>\n",
       "    </tr>\n",
       "    <tr>\n",
       "      <th>22</th>\n",
       "      <td>3670</td>\n",
       "      <td>4</td>\n",
       "      <td>3.0</td>\n",
       "      <td>486910.855883</td>\n",
       "    </tr>\n",
       "    <tr>\n",
       "      <th>23</th>\n",
       "      <td>3400</td>\n",
       "      <td>4</td>\n",
       "      <td>3.0</td>\n",
       "      <td>467439.684871</td>\n",
       "    </tr>\n",
       "    <tr>\n",
       "      <th>24</th>\n",
       "      <td>1840</td>\n",
       "      <td>2</td>\n",
       "      <td>1.5</td>\n",
       "      <td>258591.072337</td>\n",
       "    </tr>\n",
       "    <tr>\n",
       "      <th>25</th>\n",
       "      <td>2175</td>\n",
       "      <td>3</td>\n",
       "      <td>2.0</td>\n",
       "      <td>315939.514375</td>\n",
       "    </tr>\n",
       "    <tr>\n",
       "      <th>26</th>\n",
       "      <td>4820</td>\n",
       "      <td>5</td>\n",
       "      <td>3.0</td>\n",
       "      <td>573064.408630</td>\n",
       "    </tr>\n",
       "    <tr>\n",
       "      <th>27</th>\n",
       "      <td>4490</td>\n",
       "      <td>4</td>\n",
       "      <td>3.0</td>\n",
       "      <td>546045.523400</td>\n",
       "    </tr>\n",
       "    <tr>\n",
       "      <th>28</th>\n",
       "      <td>2000</td>\n",
       "      <td>3</td>\n",
       "      <td>2.0</td>\n",
       "      <td>303319.310941</td>\n",
       "    </tr>\n",
       "    <tr>\n",
       "      <th>29</th>\n",
       "      <td>1200</td>\n",
       "      <td>2</td>\n",
       "      <td>1.0</td>\n",
       "      <td>182468.205927</td>\n",
       "    </tr>\n",
       "  </tbody>\n",
       "</table>\n",
       "</div>"
      ],
      "text/plain": [
       "    Square_Feet  Beds  Baths  Price_Estimate\n",
       "0          1000     2    1.0   168045.116288\n",
       "1          3400     3    3.0   464218.897544\n",
       "2          2560     3    2.0   343703.961929\n",
       "3          5200     5    5.5   750313.176778\n",
       "4          3350     3    3.5   490582.104702\n",
       "5          3000     3    2.5   405403.738700\n",
       "6          2750     3    2.0   357405.897085\n",
       "7          2460     2    2.0   333271.629783\n",
       "8          6200     6    6.0   855618.391864\n",
       "9          1500     2    2.0   264040.799519\n",
       "10         1970     2    2.5   327904.039736\n",
       "11         4000     4    4.0   570646.912920\n",
       "12         4600     4    4.5   643885.161403\n",
       "13         5420     5    4.0   676271.636679\n",
       "14         1690     2    2.0   277742.734675\n",
       "15         2275     3    2.0   323151.059194\n",
       "16         2600     3    2.5   376557.559424\n",
       "17         3920     4    2.0   445001.758797\n",
       "18         4530     4    4.0   608868.100462\n",
       "19         4430     4    3.5   571687.576076\n",
       "20         6040     5    5.0   780921.173693\n",
       "21         2580     3    3.0   405084.230027\n",
       "22         3670     4    3.0   486910.855883\n",
       "23         3400     4    3.0   467439.684871\n",
       "24         1840     2    1.5   258591.072337\n",
       "25         2175     3    2.0   315939.514375\n",
       "26         4820     5    3.0   573064.408630\n",
       "27         4490     4    3.0   546045.523400\n",
       "28         2000     3    2.0   303319.310941\n",
       "29         1200     2    1.0   182468.205927"
      ]
     },
     "execution_count": 15,
     "metadata": {},
     "output_type": "execute_result"
    }
   ],
   "source": [
    "df2['Price_Estimate'] = prices\n",
    "df2"
   ]
  },
  {
   "cell_type": "code",
   "execution_count": 16,
   "id": "071e6f9c",
   "metadata": {},
   "outputs": [],
   "source": [
    "df2.to_csv('datasets/estimated.csv')"
   ]
  },
  {
   "cell_type": "code",
   "execution_count": null,
   "id": "6040b54f",
   "metadata": {},
   "outputs": [],
   "source": []
  }
 ],
 "metadata": {
  "kernelspec": {
   "display_name": "Python 3 (ipykernel)",
   "language": "python",
   "name": "python3"
  },
  "language_info": {
   "codemirror_mode": {
    "name": "ipython",
    "version": 3
   },
   "file_extension": ".py",
   "mimetype": "text/x-python",
   "name": "python",
   "nbconvert_exporter": "python",
   "pygments_lexer": "ipython3",
   "version": "3.8.11"
  }
 },
 "nbformat": 4,
 "nbformat_minor": 5
}
